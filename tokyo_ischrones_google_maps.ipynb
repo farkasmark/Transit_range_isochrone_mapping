{
 "cells": [
  {
   "cell_type": "code",
   "execution_count": 1,
   "metadata": {
    "collapsed": true
   },
   "outputs": [],
   "source": [
    "from math import cos, sin, tan, pi, radians, degrees, asin, atan2\n",
    "import time\n",
    "import datetime\n",
    "import googlemaps\n",
    "\n",
    "\n",
    "departure_date = datetime.datetime.strptime('Jun 12 2017  1:00PM', '%b %d %Y %I:%M%p')\n",
    "transportation_mode = \"transit\"\n",
    "transit_mode  = \"rail\"\n",
    "routing_preference =\"fewer_transfers\"\n",
    "api_key = \"YOUR API KEY HERE\"\n",
    "\n",
    "epoch_limit = 20\n",
    "google_maps = googlemaps.Client(key=api_key)"
   ]
  },
  {
   "cell_type": "code",
   "execution_count": 2,
   "metadata": {
    "collapsed": true
   },
   "outputs": [],
   "source": [
    "def select_destination(origin, angle, radius):\n",
    "    # Radius of the Earth in km\n",
    "    r = 6378.137  \n",
    "    # Bearing in radians converted from angle in degrees\n",
    "    bearing = radians(angle)\n",
    "    lat1 = radians(origin[\"lat\"])\n",
    "    lng1 = radians(origin[\"lng\"])\n",
    "    lat2 = asin(sin(lat1) * cos(radius / r) + cos(lat1) * sin(radius / r) * cos(bearing))\n",
    "    lng2 = lng1 + atan2(sin(bearing) * sin(radius / r) * cos(lat1), cos(radius / r) - sin(lat1) * sin(lat2))\n",
    "    lat2 = degrees(lat2)\n",
    "    lng2 = degrees(lng2)\n",
    "    \n",
    "    return {\"lat\": lat2, \"lng\":lng2}\n",
    "\n",
    "def get_bearing(origin, destination):\n",
    "    bearing = atan2(sin((destination[\"lng\"] - origin[\"lng\"]) * pi / 180) * cos(destination[\"lat\"] * pi / 180),\n",
    "                    cos(origin[\"lat\"] * pi / 180) * sin(destination[\"lat\"] * pi / 180) -\n",
    "                    sin(origin[\"lat\"] * pi / 180) * cos(destination[\"lat\"] * pi / 180) * \n",
    "                    cos((destination[\"lng\"] - origin[\"lng\"]) * pi / 180))\n",
    "    bearing = bearing * 180 / pi\n",
    "    bearing = (bearing + 360) % 360\n",
    "    return bearing\n",
    "\n",
    "def sort_points(origin, iso):\n",
    "    bearings = []\n",
    "    for row in iso:\n",
    "        bearings.append(get_bearing(origin, row))\n",
    "\n",
    "    return [i for (b, i) in sorted(zip(bearings, iso))]"
   ]
  },
  {
   "cell_type": "code",
   "execution_count": 3,
   "metadata": {
    "collapsed": true
   },
   "outputs": [],
   "source": [
    "def calc_iso_points(geocode, number_of_angles,\n",
    "                    duration, tolerance):\n",
    "    # direction and magnitude of isochronic point ranges\n",
    "    rad = [duration / 12] * number_of_angles\n",
    "    phi = [i * (360 / number_of_angles) for i in range(number_of_angles)]\n",
    "    \n",
    "    # location/size of the step to take, similar to learning rate with time based decay\n",
    "    step = 0.5\n",
    "    step_decay = .025\n",
    "    step_base = 1\n",
    "    iso = [[0, 0]] * number_of_angles\n",
    "\n",
    "    # epoch is used to break prematurely if it takes too long\n",
    "    epoch = 0\n",
    "    converged = False\n",
    "    \n",
    "    while not converged and epoch <= epoch_limit:\n",
    "        \n",
    "        converged = True\n",
    "        \n",
    "        # get predicted point coordinates\n",
    "        iso = [select_destination(geocode, phi[i], rad[i]) \n",
    "               for i in range(number_of_angles)]\n",
    "\n",
    "        # Calculate transit distance between original point and predicted points\n",
    "        # Google maps api can't return public transportation values for Tokyo yet... \n",
    "        # So it returns walking distances.\n",
    "        data = google_maps.distance_matrix(origins=geocode, destinations=iso,\n",
    "                                           mode=transportation_mode, \n",
    "                                           units=\"metric\", \n",
    "                                           language=\"en\",\n",
    "                                           departure_time = departure_date, \n",
    "                                           transit_routing_preference = routing_preference,\n",
    "                                           transit_mode = transit_mode)\n",
    "        \n",
    "        # google maps gets confused with the returned addresses, so coordinates are more robust\n",
    "        data[\"destination_addresses\"] = iso[:]\n",
    "\n",
    "\n",
    "        for i in range(number_of_angles):  \n",
    "            data_duration = data[\"rows\"][0][\"elements\"][i][\"duration\"][\"text\"].split()\n",
    "            data_duration = data_duration[0] if data_duration[1] == 'mins' else data_duration[0]*60\n",
    "            data_duration = int(data_duration)\n",
    "\n",
    "            # If selected points duration is smaller than wanted, make it bigger\n",
    "            if data_duration < (duration - tolerance):\n",
    "                rad[i] *= (step_base + step)\n",
    "                converged = False\n",
    "                \n",
    "            # Else If selected points duration is larger than wanted, make it smaller\n",
    "            elif data_duration > (duration + tolerance):\n",
    "                rad[i] /= (step_base + step)\n",
    "                converged = False\n",
    "                \n",
    "            # Else, if points are within range, do nothing, \n",
    "            # if all points are good it is converged\n",
    "\n",
    "        epoch += 1\n",
    "        step = step * 1/(1 + step_decay * epoch)\n",
    "        print(\"Epoch: {}/{}\".format(epoch, epoch_limit), end=\"\\r\")\n",
    "        \n",
    "        # to throthle the over use of google maps api\n",
    "        time.sleep(.2)\n",
    "        \n",
    "    print()\n",
    "    return sort_points(geocode, iso)"
   ]
  },
  {
   "cell_type": "code",
   "execution_count": 4,
   "metadata": {
    "collapsed": true
   },
   "outputs": [],
   "source": [
    "def get_isochrone(query_location, number_of_angles=20, \n",
    "                  duration=25, tolerance=10):\n",
    "    # get latitude and longtitude of the location from google maps\n",
    "    geocode_result = google_maps.geocode(query_location, language=\"en\")[0]\n",
    "    geocode = geocode_result['geometry']['location'] \n",
    "    \n",
    "    # calculate approximate isochronic ranges from geocode\n",
    "    iso = calc_iso_points(geocode, number_of_angles, duration, tolerance)\n",
    "    \n",
    "    return geocode, iso"
   ]
  },
  {
   "cell_type": "code",
   "execution_count": 5,
   "metadata": {
    "collapsed": true
   },
   "outputs": [],
   "source": [
    "# build a simple google maps html to display, html is a modified version of gmplot\n",
    "# from https://github.com/vgm64/gmplot\n",
    "def plot_map_to_html(api_key, center, coords, zoom_level=5, path='isochrone_maps\\\\', file_name='', \n",
    "                     fill_opacity=0.3, line_opacity=1.0, line_weight=1):\n",
    "    \n",
    "    html_text = \"\"\"\n",
    "    <html>\n",
    "    <head>\n",
    "    <meta name=\"viewport\" content=\"initial-scale=1.0, user-scalable=no\" />\n",
    "    <meta http-equiv=\"content-type\" content=\"text/html; charset=UTF-8\"/>\n",
    "    <title>{}</title>\n",
    "    <script type=\"text/javascript\" src=\"https://maps.googleapis.com/maps/api/js?key={}&libraries=visualization\"></script>\n",
    "    <script type=\"text/javascript\">\n",
    "        function initialize() {{\n",
    "            var centerlatlng = new google.maps.LatLng({}, {});\n",
    "            var myOptions = {{\n",
    "                zoom: {},\n",
    "                center: centerlatlng,\n",
    "                mapTypeId: google.maps.MapTypeId.ROADMAP\n",
    "            }};\n",
    "            var map = new google.maps.Map(document.getElementById(\"map_canvas\"), myOptions);\n",
    "    \"\"\".format(file_name, api_key, center[\"lat\"], center[\"lng\"], zoom_level)\n",
    "    \n",
    "    for location in coords:\n",
    "        poly_coords = \"var coords_{} = [\\n\".format(location[\"name\"])\n",
    "        poly_coords += \",\\n\".join([\"new google.maps.LatLng({}, {})\".format(i[\"lat\"], i[\"lng\"]) \n",
    "                                   for i in location[\"coords\"]])\n",
    "        poly_coords += \"\\n];\"\n",
    "        poly_coords += \"\"\"\n",
    "            \\nvar polygon_{0} = new google.maps.Polygon({{\n",
    "            clickable: false,\n",
    "            geodesic: true,\n",
    "            fillColor:\"#{1}\",\n",
    "            fillOpacity:{2},\n",
    "            paths:coords_{0},\n",
    "            strokeColor:\"#{1}\",\n",
    "            strokeOpacity:{3},\n",
    "            strokeWeight:{4}\n",
    "            }});\n",
    "            polygon_{0}.setMap(map);\n",
    "            \\n\"\"\".format(location[\"name\"], location[\"color\"], fill_opacity, line_opacity, line_weight)\n",
    "        html_text += poly_coords\n",
    "    \n",
    "    html_text += \"\"\"\n",
    "        }\n",
    "        </script>\n",
    "        </head>\n",
    "        <body style=\"margin:0px; padding:0px;\" onload=\"initialize()\">\n",
    "            <div id=\"map_canvas\" style=\"width: 100%; height: 100%;\"></div>\n",
    "        </body>\n",
    "        </html>\n",
    "\n",
    "    \"\"\"\n",
    "    file_path = \"{}{}_{}_.html\".format(path, file_name,\n",
    "                                   datetime.datetime.now().strftime(\"%Y-%m-%d_%H-%M\"))\n",
    "    with open(file_path, \"w\") as f:\n",
    "        print(html_text, file=f)\n",
    "        \n",
    "    return html_text, file_path"
   ]
  },
  {
   "cell_type": "code",
   "execution_count": 6,
   "metadata": {
    "scrolled": true
   },
   "outputs": [
    {
     "name": "stdout",
     "output_type": "stream",
     "text": [
      "Epoch: 2/20\n",
      "Epoch: 2/20\n",
      "Epoch: 1/20\n",
      "Epoch: 1/20\n",
      "Epoch: 2/20\n",
      "Epoch: 1/20\n",
      "Epoch: 1/20\n",
      "Epoch: 1/20\n",
      "Epoch: 1/20\n"
     ]
    }
   ],
   "source": [
    "locations = [\n",
    "    {\"address\":\"2 Chome Dogenzaka, Shibuya-ku, Tōkyō-to 150-0002, Japan\" , \n",
    "     \"name\": \"Shibuya\",\"duration\":45 , \"angles\":20, \"c\":\"3ea190\"},\n",
    "    {\"address\":\"Japan, 〒110-0005 Tōkyō-to, 台東区Ueno, 7 Chome−1−1\" , \n",
    "     \"name\": \"Ueno\", \"duration\":40 , \"angles\":20, \"c\":\"6eb190\"},\n",
    "    {\"address\":\"1丁目 Minamiikebukuro Toshima-ku, Tōkyō-to Japan\",\n",
    "    \"name\": \"Ikebukuro\", \"duration\":35 , \"angles\":20, \"c\":\"6eb190\"},\n",
    "    {\"address\":\"Japan, 〒155-0031 Tōkyō-to, Setagaya-ku, Kitazawa, 2 Chome−２３\" , \n",
    "     \"name\": \"Shimokitazawa\", \"duration\":30 , \"angles\":20, \"c\":\"3ea190\"},\n",
    "    {\"address\": \"Japan, 〒180-0003 Tōkyō-to, Musashino-shi, Kichijōji Minamichō, 2 Chome−１ 吉祥寺南町1丁目\",\n",
    "    \"name\": \"Kichioji\", \"duration\":20, \"angles\":20, \"c\":\"ced190\"},\n",
    "    {\"address\": \"Japan, 〒166-0003 Tōkyō-to, Suginami-ku, 杉並区Kōenjiminami, 4 Chome−４８\",\n",
    "    \"name\": \"Koenji\", \"duration\":25, \"angles\":20, \"c\":\"9ec190\"},\n",
    "    {\"address\": \"Japan, 〒103-0012 Tōkyō-to, Chūō-ku, Nihonbashihoridomechō, 2 Chome−１−１３\",\n",
    "    \"name\": \"Nihonbashi\", \"duration\":25, \"angles\":20, \"c\":\"3ea190\"},\n",
    "    {\"address\": \"Japan, 〒141-0021 Tōkyō-to, Shinagawa-ku, Kamiōsaki, 4 Chome−２−１\",\n",
    "    \"name\": \"Meguro\", \"duration\":25, \"angles\":20, \"c\":\"6eb190\"},\n",
    "    {\"address\": \"1 Chome Hyakuninchō, Shinjuku-ku, Tōkyō-to 169-0073, Japan\",\n",
    "    \"name\": \"Okubo\", \"duration\":20, \"angles\":20, \"c\":\"9ec190\"}\n",
    "]\n",
    "poly_list = []\n",
    "\n",
    "for location in locations:\n",
    "    geocode, iso = get_isochrone(location[\"address\"], \n",
    "                                 duration=location[\"duration\"], \n",
    "                                 number_of_angles=location[\"angles\"])\n",
    "    poly_list.append({\"name\": location[\"name\"], \"geocode\": geocode, \"coords\":iso, \"color\":location[\"c\"]})"
   ]
  },
  {
   "cell_type": "code",
   "execution_count": 7,
   "metadata": {},
   "outputs": [
    {
     "data": {
      "text/html": [
       "\n",
       "        <iframe\n",
       "            width=\"700\"\n",
       "            height=\"350\"\n",
       "            src=\"isochrone_maps\\shibuya_ueno_ikebukuro_shimokita_2017-06-13_21-53_.html\"\n",
       "            frameborder=\"0\"\n",
       "            allowfullscreen\n",
       "        ></iframe>\n",
       "        "
      ],
      "text/plain": [
       "<IPython.lib.display.IFrame at 0x1ce06c6d630>"
      ]
     },
     "execution_count": 7,
     "metadata": {},
     "output_type": "execute_result"
    }
   ],
   "source": [
    "center = poly_list[0][\"geocode\"]\n",
    "_, html_file = plot_map_to_html(api_key, center, poly_list,\n
    "                                file_name='shibuya_ueno_ikebukuro_shimokita', zoom_level=12,\n",
    "                                fill_opacity=0.3, line_opacity=1.0, line_weight=1)\n",
    "\n",
    "from IPython.display import IFrame\n",
    "IFrame(html_file, width=700, height=350)"
   ]
  }
 ],
 "metadata": {
  "anaconda-cloud": {},
  "kernelspec": {
   "display_name": "Python [conda root]",
   "language": "python",
   "name": "conda-root-py"
  },
  "language_info": {
   "codemirror_mode": {
    "name": "ipython",
    "version": 3
   },
   "file_extension": ".py",
   "mimetype": "text/x-python",
   "name": "python",
   "nbconvert_exporter": "python",
   "pygments_lexer": "ipython3",
   "version": "3.5.3"
  }
 },
 "nbformat": 4,
 "nbformat_minor": 2
}
